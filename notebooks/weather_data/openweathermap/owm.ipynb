{
 "cells": [
  {
   "attachments": {},
   "cell_type": "markdown",
   "metadata": {},
   "source": [
    "Imports"
   ]
  },
  {
   "cell_type": "code",
   "execution_count": 3,
   "metadata": {},
   "outputs": [],
   "source": [
    "from pyowm import OWM\n",
    "from pyowm.utils import config\n",
    "from pyowm.utils import timestamps\n",
    "import json"
   ]
  },
  {
   "attachments": {},
   "cell_type": "markdown",
   "metadata": {},
   "source": [
    "Free API"
   ]
  },
  {
   "cell_type": "code",
   "execution_count": 4,
   "metadata": {},
   "outputs": [],
   "source": [
    "# load API key from json file\n",
    "with open('owm_api_key.json') as f:\n",
    "    data = json.load(f)\n",
    "    api_key = data['api_key']"
   ]
  },
  {
   "cell_type": "code",
   "execution_count": 5,
   "metadata": {},
   "outputs": [],
   "source": [
    "# ---------- FREE API KEY examples ---------------------\n",
    "\n",
    "owm = OWM(api_key)\n",
    "mgr = owm.weather_manager()\n",
    "\n",
    "# Search for current weather in London (Great Britain) and get details\n",
    "observation = mgr.weather_at_place('London,GB')\n",
    "w = observation.weather\n",
    "\n",
    "w.detailed_status         # 'clouds'\n",
    "w.wind()                  # {'speed': 4.6, 'deg': 330}\n",
    "w.humidity                # 87\n",
    "w.temperature('celsius')  # {'temp_max': 10.5, 'temp': 9.7, 'temp_min': 9.0}\n",
    "w.rain                    # {}\n",
    "w.heat_index              # None\n",
    "w.clouds                  # 75\n",
    "\n",
    "# Will it be clear tomorrow at this time in Milan (Italy) ?\n",
    "forecast = mgr.forecast_at_place('Milan,IT', 'daily')\n",
    "answer = forecast.will_be_clear_at(timestamps.tomorrow())\n",
    "\n"
   ]
  },
  {
   "attachments": {},
   "cell_type": "markdown",
   "metadata": {},
   "source": [
    "Paid API"
   ]
  },
  {
   "cell_type": "code",
   "execution_count": 6,
   "metadata": {},
   "outputs": [
    {
     "data": {
      "text/plain": [
       "43"
      ]
     },
     "execution_count": 6,
     "metadata": {},
     "output_type": "execute_result"
    }
   ],
   "source": [
    "# ---------- PAID API KEY example ---------------------\n",
    "config_dict = config.get_default_config_for_subscription_type('professional')\n",
    "owm = OWM(api_key, config_dict)\n",
    "\n",
    "# What's the current humidity in Berlin (Germany) ?\n",
    "one_call_object = mgr.one_call(lat=52.5244, lon=13.4105)\n",
    "one_call_object.current.humidity"
   ]
  },
  {
   "attachments": {},
   "cell_type": "markdown",
   "metadata": {},
   "source": [
    "Forecast"
   ]
  },
  {
   "cell_type": "code",
   "execution_count": 7,
   "metadata": {},
   "outputs": [],
   "source": [
    "one_call = mgr.one_call(lat=52.5244, lon=13.4105)"
   ]
  },
  {
   "cell_type": "code",
   "execution_count": 8,
   "metadata": {},
   "outputs": [
    {
     "data": {
      "text/plain": [
       "97"
      ]
     },
     "execution_count": 8,
     "metadata": {},
     "output_type": "execute_result"
    }
   ],
   "source": [
    "one_call.forecast_hourly[8].clouds"
   ]
  }
 ],
 "metadata": {
  "kernelspec": {
   "display_name": "pysolar",
   "language": "python",
   "name": "python3"
  },
  "language_info": {
   "codemirror_mode": {
    "name": "ipython",
    "version": 3
   },
   "file_extension": ".py",
   "mimetype": "text/x-python",
   "name": "python",
   "nbconvert_exporter": "python",
   "pygments_lexer": "ipython3",
   "version": "3.11.3"
  },
  "orig_nbformat": 4
 },
 "nbformat": 4,
 "nbformat_minor": 2
}
